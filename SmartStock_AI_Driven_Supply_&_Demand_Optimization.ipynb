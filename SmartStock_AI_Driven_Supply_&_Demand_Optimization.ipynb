{
  "nbformat": 4,
  "nbformat_minor": 0,
  "metadata": {
    "colab": {
      "provenance": [],
      "authorship_tag": "ABX9TyMU/Ms2xxHr4TJSGzQWAFEy",
      "include_colab_link": true
    },
    "kernelspec": {
      "name": "python3",
      "display_name": "Python 3"
    },
    "language_info": {
      "name": "python"
    }
  },
  "cells": [
    {
      "cell_type": "markdown",
      "metadata": {
        "id": "view-in-github",
        "colab_type": "text"
      },
      "source": [
        "<a href=\"https://colab.research.google.com/github/Himanshuu05/SmartStock--AI-Driven-Supply---Demand-Optimization/blob/main/SmartStock_AI_Driven_Supply_%26_Demand_Optimization.ipynb\" target=\"_parent\"><img src=\"https://colab.research.google.com/assets/colab-badge.svg\" alt=\"Open In Colab\"/></a>"
      ]
    },
    {
      "cell_type": "code",
      "execution_count": null,
      "metadata": {
        "colab": {
          "base_uri": "https://localhost:8080/"
        },
        "id": "07SdjudHV8pP",
        "outputId": "7885e3e3-6c9b-4180-9ea2-e39439fa5246"
      },
      "outputs": [
        {
          "output_type": "stream",
          "name": "stdout",
          "text": [
            "Predicted Demand: 75\n",
            "Optimal Inventory Level: 75.30\n"
          ]
        }
      ],
      "source": [
        "import random\n",
        "\n",
        "# Fuzzy Logic for Demand Prediction\n",
        "def predict_demand(sales, seasonality):\n",
        "    if sales > 80 and seasonality > 70:\n",
        "        return 100  # High demand\n",
        "    elif sales > 50 and seasonality > 50:\n",
        "        return 75  # Medium demand\n",
        "    else:\n",
        "        return 50  # Low demand\n",
        "\n",
        "# Fitness Function\n",
        "def calculate_fitness(inventory, demand, holding_cost, shortage_cost):\n",
        "    holding = (inventory - demand) * holding_cost if inventory > demand else 0\n",
        "    shortage = (demand - inventory) * shortage_cost if inventory < demand else 0\n",
        "    return 1 / (holding + shortage + 1)  # Fitness is inverse of total cost\n",
        "\n",
        "# Genetic Algorithm for Inventory Optimization\n",
        "def optimize_inventory(demand, holding_cost, shortage_cost, population_size=10, generations=50):\n",
        "    # Initialize population (random inventory levels)\n",
        "    population = [random.uniform(0, 200) for _ in range(population_size)]\n",
        "\n",
        "    for _ in range(generations):\n",
        "        # Calculate fitness for each individual\n",
        "        fitness = [calculate_fitness(ind, demand, holding_cost, shortage_cost) for ind in population]\n",
        "\n",
        "        # Select the two best individuals\n",
        "        sorted_population = sorted(zip(population, fitness), key=lambda x: x[1], reverse=True)\n",
        "        parent1, parent2 = sorted_population[0][0], sorted_population[1][0]\n",
        "\n",
        "        # Create the next generation using crossover and mutation\n",
        "        new_population = []\n",
        "        for _ in range(population_size):\n",
        "            # Crossover\n",
        "            child = (parent1 + parent2) / 2\n",
        "            # Mutation\n",
        "            child += random.uniform(-10, 10)\n",
        "            # Ensure inventory stays within bounds\n",
        "            child = max(0, min(child, 200))\n",
        "            new_population.append(child)\n",
        "\n",
        "        population = new_population\n",
        "\n",
        "    # Return the best inventory level\n",
        "    best_individual = max(population, key=lambda ind: calculate_fitness(ind, demand, holding_cost, shortage_cost))\n",
        "    return best_individual\n",
        "\n",
        "# Main Function\n",
        "if __name__ == \"__main__\":\n",
        "    # Example Input\n",
        "    sales = 70  # Historical sales data\n",
        "    seasonality = 60  # Seasonality factor\n",
        "    holding_cost = 2  # Cost of holding inventory per unit\n",
        "    shortage_cost = 5  # Cost of shortage per unit\n",
        "\n",
        "    # Step 1: Predict Demand\n",
        "    predicted_demand = predict_demand(sales, seasonality)\n",
        "    print(f\"Predicted Demand: {predicted_demand}\")\n",
        "\n",
        "    # Step 2: Optimize Inventory\n",
        "    optimal_inventory = optimize_inventory(predicted_demand, holding_cost, shortage_cost)\n",
        "    print(f\"Optimal Inventory Level: {optimal_inventory:.2f}\")\n"
      ]
    }
  ]
}